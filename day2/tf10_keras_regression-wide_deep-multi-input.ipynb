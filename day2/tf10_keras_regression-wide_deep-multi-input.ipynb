{
 "cells": [
  {
   "cell_type": "code",
   "execution_count": 1,
   "metadata": {},
   "outputs": [
    {
     "name": "stdout",
     "output_type": "stream",
     "text": [
      "2.2.0\n",
      "sys.version_info(major=3, minor=6, micro=9, releaselevel='final', serial=0)\n",
      "matplotlib 3.2.1\n",
      "numpy 1.18.5\n",
      "pandas 1.0.4\n",
      "sklearn 0.23.1\n",
      "tensorflow 2.2.0\n",
      "tensorflow.keras 2.3.0-tf\n"
     ]
    }
   ],
   "source": [
    "import matplotlib as mpl\n",
    "import matplotlib.pyplot as plt\n",
    "%matplotlib inline\n",
    "import numpy as np\n",
    "import sklearn\n",
    "import pandas as pd\n",
    "import os\n",
    "import sys\n",
    "import time\n",
    "import tensorflow as tf\n",
    "\n",
    "from tensorflow import keras\n",
    "\n",
    "print(tf.__version__)\n",
    "print(sys.version_info)\n",
    "for module in mpl, np, pd, sklearn, tf, keras:\n",
    "    print(module.__name__, module.__version__)"
   ]
  },
  {
   "cell_type": "code",
   "execution_count": 2,
   "metadata": {},
   "outputs": [
    {
     "name": "stdout",
     "output_type": "stream",
     "text": [
      ".. _california_housing_dataset:\n",
      "\n",
      "California Housing dataset\n",
      "--------------------------\n",
      "\n",
      "**Data Set Characteristics:**\n",
      "\n",
      "    :Number of Instances: 20640\n",
      "\n",
      "    :Number of Attributes: 8 numeric, predictive attributes and the target\n",
      "\n",
      "    :Attribute Information:\n",
      "        - MedInc        median income in block\n",
      "        - HouseAge      median house age in block\n",
      "        - AveRooms      average number of rooms\n",
      "        - AveBedrms     average number of bedrooms\n",
      "        - Population    block population\n",
      "        - AveOccup      average house occupancy\n",
      "        - Latitude      house block latitude\n",
      "        - Longitude     house block longitude\n",
      "\n",
      "    :Missing Attribute Values: None\n",
      "\n",
      "This dataset was obtained from the StatLib repository.\n",
      "http://lib.stat.cmu.edu/datasets/\n",
      "\n",
      "The target variable is the median house value for California districts.\n",
      "\n",
      "This dataset was derived from the 1990 U.S. census, using one row per census\n",
      "block group. A block group is the smallest geographical unit for which the U.S.\n",
      "Census Bureau publishes sample data (a block group typically has a population\n",
      "of 600 to 3,000 people).\n",
      "\n",
      "It can be downloaded/loaded using the\n",
      ":func:`sklearn.datasets.fetch_california_housing` function.\n",
      "\n",
      ".. topic:: References\n",
      "\n",
      "    - Pace, R. Kelley and Ronald Barry, Sparse Spatial Autoregressions,\n",
      "      Statistics and Probability Letters, 33 (1997) 291-297\n",
      "\n",
      "(20640, 8)\n",
      "(20640,)\n"
     ]
    }
   ],
   "source": [
    "from sklearn.datasets import fetch_california_housing\n",
    "\n",
    "housing = fetch_california_housing()\n",
    "print(housing.DESCR)\n",
    "print(housing.data.shape)\n",
    "print(housing.target.shape)"
   ]
  },
  {
   "cell_type": "code",
   "execution_count": 3,
   "metadata": {},
   "outputs": [
    {
     "name": "stdout",
     "output_type": "stream",
     "text": [
      "(11610, 8) (11610,)\n",
      "(3870, 8) (3870,)\n",
      "(5160, 8) (5160,)\n"
     ]
    }
   ],
   "source": [
    "from sklearn.model_selection import train_test_split\n",
    "\n",
    "x_train_all, x_test, y_train_all, y_test = train_test_split(\n",
    "    housing.data, housing.target, random_state = 7)\n",
    "x_train, x_valid, y_train, y_valid = train_test_split(\n",
    "    x_train_all, y_train_all, random_state = 11)\n",
    "print(x_train.shape, y_train.shape)\n",
    "print(x_valid.shape, y_valid.shape)\n",
    "print(x_test.shape, y_test.shape)\n"
   ]
  },
  {
   "cell_type": "code",
   "execution_count": 4,
   "metadata": {},
   "outputs": [],
   "source": [
    "from sklearn.preprocessing import StandardScaler\n",
    "\n",
    "scaler = StandardScaler()\n",
    "x_train_scaled = scaler.fit_transform(x_train)\n",
    "x_valid_scaled = scaler.transform(x_valid)\n",
    "x_test_scaled = scaler.transform(x_test)"
   ]
  },
  {
   "cell_type": "code",
   "execution_count": 5,
   "metadata": {},
   "outputs": [
    {
     "name": "stdout",
     "output_type": "stream",
     "text": [
      "Tensor(\"input_1:0\", shape=(None, 5), dtype=float32)\n",
      "<class 'tensorflow.python.framework.ops.Tensor'>\n",
      "Tensor(\"input_2:0\", shape=(None, 6), dtype=float32)\n",
      "<class 'tensorflow.python.framework.ops.Tensor'>\n",
      "Model: \"model\"\n",
      "__________________________________________________________________________________________________\n",
      "Layer (type)                    Output Shape         Param #     Connected to                     \n",
      "==================================================================================================\n",
      "input_2 (InputLayer)            [(None, 6)]          0                                            \n",
      "__________________________________________________________________________________________________\n",
      "dense (Dense)                   (None, 30)           210         input_2[0][0]                    \n",
      "__________________________________________________________________________________________________\n",
      "input_1 (InputLayer)            [(None, 5)]          0                                            \n",
      "__________________________________________________________________________________________________\n",
      "dense_1 (Dense)                 (None, 30)           930         dense[0][0]                      \n",
      "__________________________________________________________________________________________________\n",
      "concatenate (Concatenate)       (None, 35)           0           input_1[0][0]                    \n",
      "                                                                 dense_1[0][0]                    \n",
      "__________________________________________________________________________________________________\n",
      "dense_2 (Dense)                 (None, 1)            36          concatenate[0][0]                \n",
      "==================================================================================================\n",
      "Total params: 1,176\n",
      "Trainable params: 1,176\n",
      "Non-trainable params: 0\n",
      "__________________________________________________________________________________________________\n"
     ]
    }
   ],
   "source": [
    "# 多输入，输入不再是同一个，wind和deep的输入不一样\n",
    "#input_wide输入的是5个特征，input_deep输入的是6个特征\n",
    "input_wide = keras.layers.Input(shape=[5])\n",
    "print(input_wide)\n",
    "print(type(input_wide))\n",
    "input_deep = keras.layers.Input(shape=[6])\n",
    "print(input_deep)\n",
    "print(type(input_deep))\n",
    "#只是deep的输入是input_deep，之前deep的输入就是input\n",
    "hidden1 = keras.layers.Dense(30, activation='relu')(input_deep)\n",
    "hidden2 = keras.layers.Dense(30, activation='relu')(hidden1)\n",
    "concat = keras.layers.concatenate([input_wide, hidden2])\n",
    "output = keras.layers.Dense(1)(concat)\n",
    "#这里是多输入,重点演示Model的inputs如何给多个\n",
    "model = keras.models.Model(inputs = [input_wide, input_deep],\n",
    "                           outputs = [output])\n",
    "        \n",
    "\n",
    "model.compile(loss=\"mean_squared_error\", optimizer=\"sgd\")\n",
    "callbacks = [keras.callbacks.EarlyStopping(\n",
    "    patience=5, min_delta=1e-3)]\n",
    "model.summary()"
   ]
  },
  {
   "cell_type": "code",
   "execution_count": 6,
   "metadata": {},
   "outputs": [
    {
     "name": "stdout",
     "output_type": "stream",
     "text": [
      "[[ 0.80154431  0.27216142 -0.11624393 -0.20231151 -0.54305157]\n",
      " [-0.29807281  0.35226166 -0.10920508 -0.25055521 -0.03406402]\n",
      " [-0.03058829 -0.92934213  0.25962148 -0.00601274 -0.50040912]\n",
      " [ 1.90638325  0.51246213  0.4475828  -0.27672178 -0.63105833]\n",
      " [ 3.88017387 -0.92934213  1.29029867 -0.17269133 -0.22550141]]\n",
      "[[-0.11624393 -0.20231151 -0.54305157 -0.02103962 -0.58976206 -0.08241846]\n",
      " [-0.10920508 -0.25055521 -0.03406402 -0.006034    1.08055484 -1.06113817]\n",
      " [ 0.25962148 -0.00601274 -0.50040912 -0.03077987  1.59844639 -1.81515182]\n",
      " [ 0.4475828  -0.27672178 -0.63105833 -0.07081147 -0.7064043   0.74649722]\n",
      " [ 1.29029867 -0.17269133 -0.22550141  0.0514101  -0.84637499  0.88631432]]\n"
     ]
    }
   ],
   "source": [
    "#wide选的是前面5列，deep选的是后面6列\n",
    "x_train_scaled_wide = x_train_scaled[:, :5]\n",
    "x_train_scaled_deep = x_train_scaled[:, 2:]\n",
    "x_valid_scaled_wide = x_valid_scaled[:, :5]\n",
    "x_valid_scaled_deep = x_valid_scaled[:, 2:]\n",
    "x_test_scaled_wide = x_test_scaled[:, :5]\n",
    "x_test_scaled_deep = x_test_scaled[:, 2:]\n",
    "print(x_train_scaled_wide[:5])\n",
    "print(x_train_scaled_deep[:5])\n",
    "x_train_scaled_wide=x_train_scaled_wide[:10000]\n",
    "x_train_scaled_deep=x_train_scaled_deep[:10000]\n",
    "y_train=y_train[:10000]"
   ]
  },
  {
   "cell_type": "code",
   "execution_count": 7,
   "metadata": {},
   "outputs": [
    {
     "name": "stdout",
     "output_type": "stream",
     "text": [
      "Epoch 1/100\n",
      "313/313 [==============================] - 1s 3ms/step - loss: 0.8187 - val_loss: 0.5903\n",
      "Epoch 2/100\n",
      "313/313 [==============================] - 1s 2ms/step - loss: 0.4952 - val_loss: 0.5068\n",
      "Epoch 3/100\n",
      "313/313 [==============================] - 1s 3ms/step - loss: 0.4521 - val_loss: 0.4594\n",
      "Epoch 4/100\n",
      "313/313 [==============================] - 1s 3ms/step - loss: 0.4328 - val_loss: 0.4733\n",
      "Epoch 5/100\n",
      "313/313 [==============================] - 1s 3ms/step - loss: 0.4243 - val_loss: 0.4359\n",
      "Epoch 6/100\n",
      "313/313 [==============================] - 1s 3ms/step - loss: 0.4081 - val_loss: 0.4261\n",
      "Epoch 7/100\n",
      "313/313 [==============================] - 1s 3ms/step - loss: 0.3991 - val_loss: 0.4164\n",
      "Epoch 8/100\n",
      "313/313 [==============================] - 1s 3ms/step - loss: 0.3929 - val_loss: 0.4074\n",
      "Epoch 9/100\n",
      "313/313 [==============================] - 1s 3ms/step - loss: 0.3869 - val_loss: 0.4090\n",
      "Epoch 10/100\n",
      "313/313 [==============================] - 1s 3ms/step - loss: 0.3812 - val_loss: 0.3941\n",
      "Epoch 11/100\n",
      "313/313 [==============================] - 1s 2ms/step - loss: 0.3797 - val_loss: 0.3929\n",
      "Epoch 12/100\n",
      "313/313 [==============================] - 1s 2ms/step - loss: 0.3733 - val_loss: 0.3831\n",
      "Epoch 13/100\n",
      "313/313 [==============================] - 1s 2ms/step - loss: 0.3687 - val_loss: 0.3767\n",
      "Epoch 14/100\n",
      "313/313 [==============================] - 1s 2ms/step - loss: 0.3642 - val_loss: 0.3774\n",
      "Epoch 15/100\n",
      "313/313 [==============================] - 1s 2ms/step - loss: 0.3625 - val_loss: 0.3744\n",
      "Epoch 16/100\n",
      "313/313 [==============================] - 1s 2ms/step - loss: 0.3567 - val_loss: 0.3718\n",
      "Epoch 17/100\n",
      "313/313 [==============================] - 1s 2ms/step - loss: 0.3524 - val_loss: 0.3624\n",
      "Epoch 18/100\n",
      "313/313 [==============================] - 1s 2ms/step - loss: 0.3488 - val_loss: 0.3716\n",
      "Epoch 19/100\n",
      "313/313 [==============================] - 1s 2ms/step - loss: 0.3471 - val_loss: 0.3662\n",
      "Epoch 20/100\n",
      "313/313 [==============================] - 1s 2ms/step - loss: 0.3437 - val_loss: 0.3724\n",
      "Epoch 21/100\n",
      "313/313 [==============================] - 1s 2ms/step - loss: 0.3408 - val_loss: 0.3678\n",
      "Epoch 22/100\n",
      "313/313 [==============================] - 1s 2ms/step - loss: 0.3400 - val_loss: 0.3671\n"
     ]
    }
   ],
   "source": [
    "history = model.fit([x_train_scaled_wide, x_train_scaled_deep],\n",
    "                    y_train,\n",
    "                    validation_data = (\n",
    "                        [x_valid_scaled_wide, x_valid_scaled_deep],\n",
    "                        y_valid),\n",
    "                    epochs = 100,\n",
    "                    callbacks = callbacks)"
   ]
  },
  {
   "cell_type": "code",
   "execution_count": 8,
   "metadata": {},
   "outputs": [
    {
     "data": {
      "image/png": "[encoded data removed]",
      "text/plain": [
       "<Figure size 576x360 with 1 Axes>"
      ]
     },
     "metadata": {
      "needs_background": "light"
     },
     "output_type": "display_data"
    }
   ],
   "source": [
    "def plot_learning_curves(history):\n",
    "    pd.DataFrame(history.history).plot(figsize=(8, 5))\n",
    "    plt.grid(True)\n",
    "    plt.gca().set_ylim(0, 1)\n",
    "    plt.show()\n",
    "plot_learning_curves(history)"
   ]
  },
  {
   "cell_type": "code",
   "execution_count": 9,
   "metadata": {},
   "outputs": [
    {
     "data": {
      "text/plain": [
       "0.3551763594150543"
      ]
     },
     "execution_count": 9,
     "metadata": {},
     "output_type": "execute_result"
    }
   ],
   "source": [
    "#可以看出比之前效果改进很多\n",
    "model.evaluate([x_test_scaled_wide, x_test_scaled_deep], y_test, verbose=0)"
   ]
  },
  {
   "cell_type": "code",
   "execution_count": null,
   "metadata": {},
   "outputs": [],
   "source": []
  }
 ],
 "metadata": {
  "kernelspec": {
   "display_name": "Python 3",
   "language": "python",
   "name": "python3"
  },
  "language_info": {
   "codemirror_mode": {
    "name": "ipython",
    "version": 3
   },
   "file_extension": ".py",
   "mimetype": "text/x-python",
   "name": "python",
   "nbconvert_exporter": "python",
   "pygments_lexer": "ipython3",
   "version": "3.6.9"
  }
 },
 "nbformat": 4,
 "nbformat_minor": 2
}
