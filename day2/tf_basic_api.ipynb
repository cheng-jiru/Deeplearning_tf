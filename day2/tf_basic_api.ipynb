{
 "cells": [
  {
   "cell_type": "code",
   "execution_count": 1,
   "metadata": {},
   "outputs": [
    {
     "name": "stdout",
     "output_type": "stream",
     "text": [
      "2.10.1\n",
      "sys.version_info(major=3, minor=8, micro=17, releaselevel='final', serial=0)\n",
      "matplotlib 3.7.2\n",
      "numpy 1.24.4\n",
      "pandas 2.0.3\n",
      "sklearn 1.3.0\n",
      "tensorflow 2.10.1\n",
      "keras.api._v2.keras 2.10.0\n"
     ]
    }
   ],
   "source": [
    "import matplotlib as mpl\n",
    "import matplotlib.pyplot as plt\n",
    "%matplotlib inline\n",
    "import numpy as np\n",
    "import sklearn\n",
    "import pandas as pd\n",
    "import os\n",
    "import sys\n",
    "import time\n",
    "import tensorflow as tf\n",
    "\n",
    "from tensorflow import keras\n",
    "\n",
    "print(tf.__version__)\n",
    "print(sys.version_info)\n",
    "for module in mpl, np, pd, sklearn, tf, keras:\n",
    "    print(module.__name__, module.__version__)"
   ]
  },
  {
   "cell_type": "markdown",
   "metadata": {},
   "source": [
    "# 练习张量，张量运算，张量转ndarray"
   ]
  },
  {
   "cell_type": "code",
   "execution_count": 4,
   "metadata": {},
   "outputs": [
    {
     "name": "stdout",
     "output_type": "stream",
     "text": [
      "tf.Tensor(\n",
      "[[1. 2. 3.]\n",
      " [4. 5. 6.]], shape=(2, 3), dtype=float32)\n",
      "--------------------------------------------------\n",
      "tf.Tensor(\n",
      "[[2. 3.]\n",
      " [5. 6.]], shape=(2, 2), dtype=float32)\n",
      "--------------------------------------------------\n",
      "tf.Tensor([2. 5.], shape=(2,), dtype=float32)\n"
     ]
    }
   ],
   "source": [
    "# constant是常量张量\n",
    "t = tf.constant([[1., 2., 3.], [4., 5.,6.]])\n",
    "\n",
    "# index\n",
    "#2.0能够直接获取值时因为execution默认打开的\n",
    "#获取数据和numpy是非常相似的\n",
    "print(t)\n",
    "print('-'*50)\n",
    "print(t[:, 1:])\n",
    "print('-'*50)\n",
    "print(t[..., 1]) #...和:等价的\n",
    "# t.assign(1)对常量不能进行再次assign设置"
   ]
  },
  {
   "cell_type": "code",
   "execution_count": 7,
   "outputs": [
    {
     "data": {
      "text/plain": "tensorflow.python.framework.ops.EagerTensor"
     },
     "execution_count": 7,
     "metadata": {},
     "output_type": "execute_result"
    }
   ],
   "source": [
    "q=t.numpy()\n",
    "type(t)"
   ],
   "metadata": {
    "collapsed": false,
    "pycharm": {
     "name": "#%%\n"
    }
   }
  },
  {
   "cell_type": "code",
   "execution_count": 9,
   "metadata": {},
   "outputs": [
    {
     "data": {
      "text/plain": "tensorflow.python.framework.ops.EagerTensor"
     },
     "execution_count": 9,
     "metadata": {},
     "output_type": "execute_result"
    }
   ],
   "source": [
    "t1= tf.constant(q)  #把ndarray变为张量\n",
    "type(t1)"
   ]
  },
  {
   "cell_type": "code",
   "execution_count": 10,
   "metadata": {},
   "outputs": [
    {
     "name": "stdout",
     "output_type": "stream",
     "text": [
      "tf.Tensor(\n",
      "[[11. 12. 13.]\n",
      " [14. 15. 16.]], shape=(2, 3), dtype=float32)\n",
      "--------------------------------------------------\n",
      "tf.Tensor(\n",
      "[[1. 2. 3.]\n",
      " [4. 5. 6.]], shape=(2, 3), dtype=float32)\n",
      "--------------------------------------------------\n",
      "tf.Tensor(\n",
      "[[ 1.  4.  9.]\n",
      " [16. 25. 36.]], shape=(2, 3), dtype=float32)\n",
      "--------------------------------------------------\n",
      "tf.Tensor(\n",
      "[[1. 2. 3.]\n",
      " [4. 5. 6.]], shape=(2, 3), dtype=float32)\n",
      "--------------------------------------------------\n",
      "tf.Tensor(\n",
      "[[1. 4.]\n",
      " [2. 5.]\n",
      " [3. 6.]], shape=(3, 2), dtype=float32)\n",
      "--------------------------------------------------\n",
      "tf.Tensor(\n",
      "[[14. 32.]\n",
      " [32. 77.]], shape=(2, 2), dtype=float32)\n",
      "--------------------------------------------------\n",
      "tf.Tensor(\n",
      "[[ 1.  4.  9.]\n",
      " [16. 25. 36.]], shape=(2, 3), dtype=float32)\n"
     ]
    }
   ],
   "source": [
    "# ops 使用tf本身的math接口对Tensor进行计算\n",
    "print(t+10)\n",
    "print('-'*50)\n",
    "print(t)\n",
    "print('-'*50)\n",
    "print(tf.square(t))  #可以做的数学运算在官网的tf.math查看到\n",
    "print('-'*50)\n",
    "print(t)\n",
    "print('-'*50)\n",
    "#矩阵乘以自己的转置\n",
    "print(tf.transpose(t))\n",
    "print('-'*50)\n",
    "print(t @ tf.transpose(t))  #@是矩阵乘法，和*不一致\n",
    "print('-'*50)\n",
    "print(t*t)"
   ]
  },
  {
   "cell_type": "code",
   "execution_count": 11,
   "metadata": {},
   "outputs": [
    {
     "name": "stdout",
     "output_type": "stream",
     "text": [
      "tf.Tensor(\n",
      "[[1.        1.4142135 1.7320508]\n",
      " [2.        2.2360678 2.4494896]], shape=(2, 3), dtype=float32)\n",
      "--------------------------------------------------\n",
      "tf.Tensor(\n",
      "[[1.        1.4142135 1.7320508]\n",
      " [2.        2.2360678 2.4494896]], shape=(2, 3), dtype=float32)\n",
      "--------------------------------------------------\n"
     ]
    },
    {
     "data": {
      "text/plain": "<tf.Tensor: shape=(2, 3), dtype=float32, numpy=\narray([[0.       , 0.6931472, 1.0986123],\n       [1.3862944, 1.609438 , 1.7917595]], dtype=float32)>"
     },
     "execution_count": 11,
     "metadata": {},
     "output_type": "execute_result"
    }
   ],
   "source": [
    "print(tf.sqrt(t))\n",
    "print('-'*50)\n",
    "print(tf.math.sqrt(t))\n",
    "print('-'*50)\n",
    "tf.math.log(t)  #必须加math"
   ]
  },
  {
   "cell_type": "code",
   "execution_count": 12,
   "metadata": {},
   "outputs": [
    {
     "name": "stdout",
     "output_type": "stream",
     "text": [
      "[[1. 2. 3.]\n",
      " [4. 5. 6.]]\n",
      "[[1.0, 2.0, 3.0], [4.0, 5.0, 6.0]]\n",
      "<class 'numpy.ndarray'>\n",
      "[[ 1.  4.  9.]\n",
      " [16. 25. 36.]]\n",
      "tf.Tensor(\n",
      "[[1. 2. 3.]\n",
      " [4. 5. 6.]], shape=(2, 3), dtype=float64)\n"
     ]
    }
   ],
   "source": [
    "# numpy conversion\n",
    "print(t.numpy())  #可以直接通过numpy取出来\n",
    "print(t.numpy().tolist())\n",
    "print(type(t.numpy()))\n",
    "print(np.square(t)) #直接求平方\n",
    "np_t = np.array([[1., 2., 3.], [4., 5., 6.]])\n",
    "print(tf.constant(np_t)) #转换为tensor"
   ]
  },
  {
   "cell_type": "code",
   "execution_count": 13,
   "metadata": {},
   "outputs": [
    {
     "name": "stdout",
     "output_type": "stream",
     "text": [
      "tf.Tensor(2.718, shape=(), dtype=float32)\n",
      "2.718\n",
      "()\n"
     ]
    }
   ],
   "source": [
    "# Scalars  就是标量，只有一个数值的张量，称为标量\n",
    "t = tf.constant(2.718)\n",
    "print(t)\n",
    "\n",
    "print(t.numpy())\n",
    "print(t.shape)  #维数"
   ]
  },
  {
   "cell_type": "code",
   "execution_count": 15,
   "outputs": [
    {
     "data": {
      "text/plain": "tensorflow.python.framework.ops.EagerTensor"
     },
     "execution_count": 15,
     "metadata": {},
     "output_type": "execute_result"
    }
   ],
   "source": [
    "type(t)"
   ],
   "metadata": {
    "collapsed": false,
    "pycharm": {
     "name": "#%%\n"
    }
   }
  },
  {
   "cell_type": "markdown",
   "metadata": {},
   "source": [
    "# 张量字符串常量"
   ]
  },
  {
   "cell_type": "code",
   "execution_count": 16,
   "metadata": {},
   "outputs": [
    {
     "name": "stdout",
     "output_type": "stream",
     "text": [
      "tf.Tensor(b'cafe', shape=(), dtype=string)\n",
      "tf.Tensor(4, shape=(), dtype=int32)\n",
      "--------------------------------------------------\n",
      "tf.Tensor(4, shape=(), dtype=int32)\n",
      "--------------------------------------------------\n",
      "tf.Tensor([ 99  97 102 101], shape=(4,), dtype=int32)\n"
     ]
    }
   ],
   "source": [
    "# strings\n",
    "t = tf.constant(\"cafe\")\n",
    "print(t)\n",
    "print(tf.strings.length(t))\n",
    "print('-'*50)\n",
    "print(tf.strings.length(t, unit=\"UTF8_CHAR\"))\n",
    "print('-'*50)\n",
    "print(tf.strings.unicode_decode(t, \"UTF8\")) #把每一个字符变为ASCII"
   ]
  },
  {
   "cell_type": "code",
   "execution_count": 17,
   "metadata": {},
   "outputs": [
    {
     "name": "stdout",
     "output_type": "stream",
     "text": [
      "tf.Tensor([4 6 2], shape=(3,), dtype=int32)\n",
      "--------------------------------------------------\n",
      "tf.Tensor([4 6 6], shape=(3,), dtype=int32)\n",
      "--------------------------------------------------\n",
      "<tf.RaggedTensor [[99, 97, 102, 101], [99, 111, 102, 102, 101, 101], [21654, 21857]]>\n"
     ]
    }
   ],
   "source": [
    "# string array\n",
    "t = tf.constant([\"cafe\", \"coffee\", \"咖啡\"])\n",
    "#自动求出数组中每一个字符的长度,如果不加unit=\"UTF8_CHAR\"，得到的是实际字节存储的长度\n",
    "print(tf.strings.length(t, unit=\"UTF8_CHAR\"))  \n",
    "print('-'*50)\n",
    "print(tf.strings.length(t, unit=\"BYTE\"))  \n",
    "print('-'*50)\n",
    "r = tf.strings.unicode_decode(t, \"UTF8\")\n",
    "# https://tool.chinaz.com/tools/unicode.aspx  汉字转的是unicode编码\n",
    "print(r)\n",
    "# RaggedTensor 是指形状分布不固定的（行元素个数不相等）\n",
    "# Tensor，2.0新增"
   ]
  },
  {
   "cell_type": "markdown",
   "metadata": {},
   "source": [
    "# Ragged tensor（每行长度不一样的Tensor）\n"
   ]
  },
  {
   "cell_type": "code",
   "execution_count": 18,
   "metadata": {},
   "outputs": [
    {
     "name": "stdout",
     "output_type": "stream",
     "text": [
      "<tf.RaggedTensor [[11, 12], [21, 22, 23], [], [41]]>\n",
      "--------------------------------------------------\n",
      "(4, None)\n",
      "--------------------------------------------------\n",
      "tf.Tensor([21 22 23], shape=(3,), dtype=int32)\n",
      "--------------------------------------------------\n",
      "<tf.RaggedTensor [[21, 22, 23], []]>\n"
     ]
    }
   ],
   "source": [
    "# ragged tensor ,每行的元素个数不相等，ndarray是不可以这样的\n",
    "r = tf.ragged.constant([[11, 12], [21, 22, 23], [], [41]])\n",
    "\n",
    "# index op\n",
    "print(r)\n",
    "print('-'*50)\n",
    "print(r.shape)\n",
    "print('-'*50)\n",
    "print(r[1])  #取一行是Tensor\n",
    "print('-'*50)\n",
    "#取多行也是ragged tensor\n",
    "print(r[1:3])\n",
    "# print(r[:,1])#不能取列索引"
   ]
  },
  {
   "cell_type": "code",
   "execution_count": 19,
   "metadata": {},
   "outputs": [
    {
     "name": "stdout",
     "output_type": "stream",
     "text": [
      "<tf.RaggedTensor [[11, 12], [21, 22, 23], [], [41], [51, 52], [], [], [71]]>\n",
      "--------------------------------------------------\n",
      "<tf.RaggedTensor [[11, 12, 51, 52], [21, 22, 23], [], [41, 71]]>\n"
     ]
    }
   ],
   "source": [
    "# ops on ragged tensor\n",
    "r2 = tf.ragged.constant([[51, 52],[], [], [71]])\n",
    "print(tf.concat([r, r2], axis = 0)) #不同行累计起来\n",
    "print('-'*50)\n",
    "print(tf.concat([r, r2], axis = 1))  #行数不相等，不可以拼\n",
    "#是否可以把上面的axis改为1"
   ]
  },
  {
   "cell_type": "code",
   "execution_count": 20,
   "metadata": {},
   "outputs": [
    {
     "name": "stdout",
     "output_type": "stream",
     "text": [
      "<tf.RaggedTensor [[11, 12, 13, 14], [21, 22, 23, 15], [41], [41, 42, 43]]>\n"
     ]
    }
   ],
   "source": [
    "#按轴1进行合并时，行数要一致，行数相等，可以拼\n",
    "r3 = tf.ragged.constant([[13, 14], [15], [41], [42, 43]])\n",
    "print(tf.concat([r, r3], axis = 1))"
   ]
  },
  {
   "cell_type": "code",
   "execution_count": 21,
   "metadata": {},
   "outputs": [
    {
     "name": "stdout",
     "output_type": "stream",
     "text": [
      "tf.Tensor(\n",
      "[[11 12  0]\n",
      " [21 22 23]\n",
      " [ 0  0  0]\n",
      " [41  0  0]], shape=(4, 3), dtype=int32)\n"
     ]
    }
   ],
   "source": [
    "print(r.to_tensor())  #各种深度学习模型必须输入一个tensor,不可以是ragged tensor\n",
    "#空闲的补0，只能往后面补"
   ]
  },
  {
   "cell_type": "markdown",
   "metadata": {},
   "source": [
    "# sparse tensor"
   ]
  },
  {
   "cell_type": "code",
   "execution_count": 22,
   "metadata": {},
   "outputs": [
    {
     "name": "stdout",
     "output_type": "stream",
     "text": [
      "SparseTensor(indices=tf.Tensor(\n",
      "[[0 1]\n",
      " [1 0]\n",
      " [2 3]\n",
      " [3 2]], shape=(4, 2), dtype=int64), values=tf.Tensor([1. 2. 3. 5.], shape=(4,), dtype=float32), dense_shape=tf.Tensor([4 4], shape=(2,), dtype=int64))\n",
      "--------------------------------------------------\n",
      "--------------------------------------------------\n"
     ]
    },
    {
     "data": {
      "text/plain": "<tf.Tensor: shape=(4, 4), dtype=float32, numpy=\narray([[0., 1., 0., 0.],\n       [2., 0., 0., 0.],\n       [0., 0., 0., 3.],\n       [0., 0., 5., 0.]], dtype=float32)>"
     },
     "execution_count": 22,
     "metadata": {},
     "output_type": "execute_result"
    }
   ],
   "source": [
    "# sparse tensor 可以往前面补零,sparse tensor从第一行依次往下填位置\n",
    "#sparese tensor存储节省内存空间，磁盘空间\n",
    "s = tf.SparseTensor(indices = [[0, 1], [1, 0], [2, 3],[3,2]], #位置\n",
    "                    values = [1., 2., 3.,5],  #值\n",
    "                    dense_shape = [4, 4])  #维数\n",
    "print(s)\n",
    "print('-'*50)\n",
    "tt=tf.sparse.to_dense(s)  #把sparse tensor变为tensor\n",
    "print('-'*50)\n",
    "tt"
   ]
  },
  {
   "cell_type": "code",
   "execution_count": 23,
   "metadata": {
    "scrolled": true
   },
   "outputs": [
    {
     "name": "stdout",
     "output_type": "stream",
     "text": [
      "SparseTensor(indices=tf.Tensor(\n",
      "[[0 1]\n",
      " [1 0]\n",
      " [2 3]\n",
      " [3 2]], shape=(4, 2), dtype=int64), values=tf.Tensor([ 2.  4.  6. 10.], shape=(4,), dtype=float32), dense_shape=tf.Tensor([4 4], shape=(2,), dtype=int64))\n",
      "--------------------------------------------------\n",
      "unsupported operand type(s) for +: 'SparseTensor' and 'int'\n",
      "--------------------------------------------------\n",
      "tf.Tensor(\n",
      "[[ 30.  40.]\n",
      " [ 20.  40.]\n",
      " [210. 240.]\n",
      " [250. 300.]], shape=(4, 2), dtype=float32)\n"
     ]
    }
   ],
   "source": [
    "# ops on sparse tensors\n",
    "\n",
    "s2 = s * 2.0\n",
    "print(s2)\n",
    "print('-'*50)\n",
    "#不支持加法\n",
    "try:\n",
    "    s3 = s + 1\n",
    "except TypeError as ex:\n",
    "    print(ex)\n",
    "print('-'*50)\n",
    "s4 = tf.constant([[10., 20.],\n",
    "                  [30., 40.],\n",
    "                  [50., 60.],\n",
    "                  [70., 80.]])\n",
    "# tf.sparse.to_dense(s)@s4\n",
    "print(tf.sparse.sparse_dense_matmul(s, s4)) #稀疏Tensor和Tensor想乘"
   ]
  },
  {
   "cell_type": "code",
   "execution_count": 24,
   "metadata": {
    "scrolled": true
   },
   "outputs": [
    {
     "name": "stdout",
     "output_type": "stream",
     "text": [
      "--------------------------------------------------\n",
      "SparseTensor(indices=tf.Tensor(\n",
      "[[0 2]\n",
      " [2 3]\n",
      " [0 1]], shape=(3, 2), dtype=int64), values=tf.Tensor([1. 2. 3.], shape=(3,), dtype=float32), dense_shape=tf.Tensor([3 4], shape=(2,), dtype=int64))\n",
      "--------------------------------------------------\n",
      "SparseTensor(indices=tf.Tensor(\n",
      "[[0 1]\n",
      " [0 2]\n",
      " [2 3]], shape=(3, 2), dtype=int64), values=tf.Tensor([3. 1. 2.], shape=(3,), dtype=float32), dense_shape=tf.Tensor([3 4], shape=(2,), dtype=int64))\n",
      "--------------------------------------------------\n",
      "tf.Tensor(\n",
      "[[0. 3. 1. 0.]\n",
      " [0. 0. 0. 0.]\n",
      " [0. 0. 0. 2.]], shape=(3, 4), dtype=float32)\n"
     ]
    }
   ],
   "source": [
    "# sparse tensor\n",
    "s5 = tf.SparseTensor(indices = [[0, 2], [2, 3], [0, 1]],\n",
    "                    values = [1., 2., 3.],\n",
    "                    dense_shape = [3, 4])\n",
    "# print(tf.sparse.to_dense(s5))  #sparse无顺序时，不能转为tensor，会报错\n",
    "print('-'*50)\n",
    "print(s5)\n",
    "print('-'*50)\n",
    "s6 = tf.sparse.reorder(s5)  #没有顺序的sparse tensor必须进行reorder以后才能to_dense\n",
    "print(s6)\n",
    "print('-'*50)\n",
    "print(tf.sparse.to_dense(s6))"
   ]
  },
  {
   "cell_type": "markdown",
   "metadata": {},
   "source": [
    "# tf.Variable"
   ]
  },
  {
   "cell_type": "code",
   "execution_count": 25,
   "metadata": {},
   "outputs": [
    {
     "data": {
      "text/plain": "tensorflow.python.framework.ops.EagerTensor"
     },
     "execution_count": 25,
     "metadata": {},
     "output_type": "execute_result"
    }
   ],
   "source": [
    "c=tf.constant([[1., 2., 3.], [4., 5.,6.]])\n",
    "type(c)"
   ]
  },
  {
   "cell_type": "code",
   "execution_count": 26,
   "metadata": {},
   "outputs": [
    {
     "ename": "AttributeError",
     "evalue": "'tensorflow.python.framework.ops.EagerTensor' object has no attribute 'assign'",
     "output_type": "error",
     "traceback": [
      "\u001B[1;31m---------------------------------------------------------------------------\u001B[0m",
      "\u001B[1;31mAttributeError\u001B[0m                            Traceback (most recent call last)",
      "Cell \u001B[1;32mIn[26], line 1\u001B[0m\n\u001B[1;32m----> 1\u001B[0m \u001B[43mc\u001B[49m\u001B[43m[\u001B[49m\u001B[38;5;241;43m0\u001B[39;49m\u001B[43m,\u001B[49m\u001B[43m \u001B[49m\u001B[38;5;241;43m1\u001B[39;49m\u001B[43m]\u001B[49m\u001B[38;5;241;43m.\u001B[39;49m\u001B[43massign\u001B[49m(\u001B[38;5;241m42\u001B[39m)\n",
      "File \u001B[1;32mD:\\Users\\cjr\\anaconda3\\envs\\cjrtf\\lib\\site-packages\\tensorflow\\python\\framework\\ops.py:446\u001B[0m, in \u001B[0;36mTensor.__getattr__\u001B[1;34m(self, name)\u001B[0m\n\u001B[0;32m    437\u001B[0m \u001B[38;5;28;01mif\u001B[39;00m name \u001B[38;5;129;01min\u001B[39;00m {\u001B[38;5;124m\"\u001B[39m\u001B[38;5;124mT\u001B[39m\u001B[38;5;124m\"\u001B[39m, \u001B[38;5;124m\"\u001B[39m\u001B[38;5;124mastype\u001B[39m\u001B[38;5;124m\"\u001B[39m, \u001B[38;5;124m\"\u001B[39m\u001B[38;5;124mravel\u001B[39m\u001B[38;5;124m\"\u001B[39m, \u001B[38;5;124m\"\u001B[39m\u001B[38;5;124mtranspose\u001B[39m\u001B[38;5;124m\"\u001B[39m, \u001B[38;5;124m\"\u001B[39m\u001B[38;5;124mreshape\u001B[39m\u001B[38;5;124m\"\u001B[39m, \u001B[38;5;124m\"\u001B[39m\u001B[38;5;124mclip\u001B[39m\u001B[38;5;124m\"\u001B[39m, \u001B[38;5;124m\"\u001B[39m\u001B[38;5;124msize\u001B[39m\u001B[38;5;124m\"\u001B[39m,\n\u001B[0;32m    438\u001B[0m             \u001B[38;5;124m\"\u001B[39m\u001B[38;5;124mtolist\u001B[39m\u001B[38;5;124m\"\u001B[39m, \u001B[38;5;124m\"\u001B[39m\u001B[38;5;124mdata\u001B[39m\u001B[38;5;124m\"\u001B[39m}:\n\u001B[0;32m    439\u001B[0m   \u001B[38;5;66;03m# TODO(wangpeng): Export the enable_numpy_behavior knob\u001B[39;00m\n\u001B[0;32m    440\u001B[0m   \u001B[38;5;28;01mraise\u001B[39;00m \u001B[38;5;167;01mAttributeError\u001B[39;00m(\n\u001B[0;32m    441\u001B[0m       \u001B[38;5;124mf\u001B[39m\u001B[38;5;124m\"\u001B[39m\u001B[38;5;132;01m{\u001B[39;00m\u001B[38;5;28mtype\u001B[39m(\u001B[38;5;28mself\u001B[39m)\u001B[38;5;241m.\u001B[39m\u001B[38;5;18m__name__\u001B[39m\u001B[38;5;132;01m}\u001B[39;00m\u001B[38;5;124m object has no attribute \u001B[39m\u001B[38;5;124m'\u001B[39m\u001B[38;5;132;01m{\u001B[39;00mname\u001B[38;5;132;01m}\u001B[39;00m\u001B[38;5;124m'\u001B[39m\u001B[38;5;124m. \u001B[39m\u001B[38;5;124m\"\u001B[39m \u001B[38;5;241m+\u001B[39m \u001B[38;5;124m\"\"\"\u001B[39m\n\u001B[0;32m    442\u001B[0m \u001B[38;5;124m    If you are looking for numpy-related methods, please run the following:\u001B[39m\n\u001B[0;32m    443\u001B[0m \u001B[38;5;124m    from tensorflow.python.ops.numpy_ops import np_config\u001B[39m\n\u001B[0;32m    444\u001B[0m \u001B[38;5;124m    np_config.enable_numpy_behavior()\u001B[39m\n\u001B[0;32m    445\u001B[0m \u001B[38;5;124m  \u001B[39m\u001B[38;5;124m\"\"\"\u001B[39m)\n\u001B[1;32m--> 446\u001B[0m \u001B[38;5;28;43mself\u001B[39;49m\u001B[38;5;241;43m.\u001B[39;49m\u001B[38;5;21;43m__getattribute__\u001B[39;49m\u001B[43m(\u001B[49m\u001B[43mname\u001B[49m\u001B[43m)\u001B[49m\n",
      "\u001B[1;31mAttributeError\u001B[0m: 'tensorflow.python.framework.ops.EagerTensor' object has no attribute 'assign'"
     ]
    }
   ],
   "source": [
    "c[0, 1].assign(42) #常量不可以assign"
   ]
  },
  {
   "cell_type": "code",
   "execution_count": 27,
   "metadata": {},
   "outputs": [
    {
     "name": "stdout",
     "output_type": "stream",
     "text": [
      "<tf.Variable 'Variable:0' shape=(2, 3) dtype=float32, numpy=\n",
      "array([[1., 2., 3.],\n",
      "       [4., 5., 6.]], dtype=float32)>\n",
      "--------------------------------------------------\n",
      "<class 'tensorflow.python.ops.resource_variable_ops.ResourceVariable'>\n",
      "--------------------------------------------------\n",
      "tf.Tensor(\n",
      "[[1. 2. 3.]\n",
      " [4. 5. 6.]], shape=(2, 3), dtype=float32)\n",
      "--------------------------------------------------\n",
      "[[1. 2. 3.]\n",
      " [4. 5. 6.]]\n"
     ]
    }
   ],
   "source": [
    "# Variables\n",
    "v = tf.Variable([[1., 2., 3.], [4., 5.,6.]])\n",
    "print(v)\n",
    "print('-'*50)\n",
    "print(type(v))\n",
    "print('-'*50)\n",
    "print(v.value())\n",
    "print('-'*50)\n",
    "print(v.numpy())"
   ]
  },
  {
   "cell_type": "code",
   "execution_count": 28,
   "metadata": {},
   "outputs": [
    {
     "name": "stdout",
     "output_type": "stream",
     "text": [
      "2667692213632\n",
      "--------------------------------------------------\n",
      "2667692213632\n",
      "--------------------------------------------------\n",
      "[[ 2.  4.  6.]\n",
      " [ 8. 10. 12.]]\n",
      "--------------------------------------------------\n",
      "[[ 2. 42.  6.]\n",
      " [ 8. 10. 12.]]\n",
      "--------------------------------------------------\n",
      "[[ 2. 42.  6.]\n",
      " [ 7.  8.  9.]]\n",
      "2667692213632\n"
     ]
    }
   ],
   "source": [
    "# 修改变量时要用assign，改变tensor内某个值，空间没有发生变化，效率高\n",
    "# assign value\n",
    "print(id(v))\n",
    "print('-'*50)\n",
    "v.assign(2*v)  #assign就是赋值，变量就需要通过这个方式赋值，不能用等号\n",
    "print(id(v))\n",
    "print('-'*50)\n",
    "print(v.numpy())\n",
    "print('-'*50)\n",
    "v[0, 1].assign(42)  #取某个元素修改,常量不可以对某个元素进行assign\n",
    "print(v.numpy())\n",
    "print('-'*50)\n",
    "v[1].assign([7., 8., 9.])  #取某一行修改\n",
    "print(v.numpy())\n",
    "print(id(v))"
   ]
  },
  {
   "cell_type": "code",
   "execution_count": 29,
   "metadata": {},
   "outputs": [
    {
     "name": "stdout",
     "output_type": "stream",
     "text": [
      "'ResourceVariable' object does not support item assignment\n"
     ]
    }
   ],
   "source": [
    "try:\n",
    "    v[1] = [7., 8., 9.]\n",
    "except TypeError as ex:\n",
    "    print(ex)"
   ]
  },
  {
   "cell_type": "code",
   "execution_count": 30,
   "metadata": {},
   "outputs": [
    {
     "name": "stdout",
     "output_type": "stream",
     "text": [
      "tf.Tensor(\n",
      "[[ 4. 84. 12.]\n",
      " [14. 16. 18.]], shape=(2, 3), dtype=float32)\n",
      "--------------------------------------------------\n",
      "2667811597760\n",
      "--------------------------------------------------\n",
      "<class 'tensorflow.python.framework.ops.EagerTensor'>\n"
     ]
    }
   ],
   "source": [
    "v=2*v\n",
    "print(v)\n",
    "print('-'*50)\n",
    "print(id(v))\n",
    "print('-'*50)\n",
    "print(type(v))"
   ]
  },
  {
   "cell_type": "code",
   "execution_count": 31,
   "metadata": {},
   "outputs": [
    {
     "data": {
      "text/plain": "<tf.Tensor: shape=(2,), dtype=float32, numpy=array([1.5, 2.5], dtype=float32)>"
     },
     "execution_count": 31,
     "metadata": {},
     "output_type": "execute_result"
    }
   ],
   "source": [
    "x = tf.constant([[1., 2], [2., 3.]])\n",
    "tf.reduce_mean(x,axis=1)"
   ]
  },
  {
   "cell_type": "code",
   "execution_count": 32,
   "metadata": {},
   "outputs": [
    {
     "data": {
      "text/plain": "<tf.Tensor: shape=(2, 2), dtype=float32, numpy=\narray([[1., 2.],\n       [2., 3.]], dtype=float32)>"
     },
     "execution_count": 32,
     "metadata": {},
     "output_type": "execute_result"
    }
   ],
   "source": [
    "x"
   ]
  }
 ],
 "metadata": {
  "kernelspec": {
   "name": "pycharm-a21d07ab",
   "language": "python",
   "display_name": "PyCharm (day43)"
  },
  "language_info": {
   "codemirror_mode": {
    "name": "ipython",
    "version": 3
   },
   "file_extension": ".py",
   "mimetype": "text/x-python",
   "name": "python",
   "nbconvert_exporter": "python",
   "pygments_lexer": "ipython3",
   "version": "3.6.9"
  }
 },
 "nbformat": 4,
 "nbformat_minor": 2
}